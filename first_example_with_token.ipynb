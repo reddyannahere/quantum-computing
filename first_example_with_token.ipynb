{
 "cells": [
  {
   "cell_type": "code",
   "execution_count": null,
   "id": "58854f08",
   "metadata": {},
   "outputs": [
    {
     "data": {
      "image/png": "[encoded data removed]",
      "text/plain": [
       "<Figure size 640x480 with 1 Axes>"
      ]
     },
     "execution_count": 1,
     "metadata": {},
     "output_type": "execute_result"
    }
   ],
   "source": [
    "# import qiskit\n",
    "# from qiskit import *\n",
    "# from qiskit_aer import Aer\n",
    "# from qiskit.visualization import plot_histogram, plot_bloch_multivector\n",
    "\n",
    "# circuit = QuantumCircuit(2, 2)\n",
    "# circuit.h(0)\n",
    "# circuit.cx(0, 1)\n",
    "# circuit.measure([0, 1], [0, 1])\n",
    "\n",
    "# simulator = Aer.get_backend('qasm_simulator')\n",
    "\n",
    "# #result = execute(circuit, backend=simulator, shots=1024).result()\n",
    "# compiled_circuit = qiskit.transpile(circuit, backend=simulator)\n",
    "# compiled_circuit.measure_all() \n",
    "# result = simulator.run(compiled_circuit, shots=1024).result()\n",
    "\n",
    "# counts = result.get_counts()\n",
    "# plot_histogram(counts)"
   ]
  },
  {
   "cell_type": "code",
   "execution_count": null,
   "id": "dad2d580",
   "metadata": {},
   "outputs": [
    {
     "name": "stderr",
     "output_type": "stream",
     "text": [
      "C:\\Users\\murth\\AppData\\Local\\Temp\\ipykernel_40492\\2238779254.py:12: DeprecationWarning: The \"ibm_quantum\" channel option is deprecated and will be sunset on 1 July. After this date, \"ibm_cloud\", \"ibm_quantum_platform\", and \"local\" will be the only valid channels. Open Plan users should migrate now.  All other users should review the migration guide (https://quantum.cloud.ibm.com/docs/migration-guides/classic-iqp-to-cloud-iqp)to learn when to migrate.\n",
      "  service = QiskitRuntimeService(channel=\"ibm_quantum\",token=\"6c34f27f6fcf474d7acf09a3beafa76bb94ce1f7f367c80dbb9bdbff00f55a62f414ae6a4c277a0500367525370d30668e99da320d5d70b57c8103c16109a782\")\n"
     ]
    }
   ],
   "source": [
    "import qiskit\n",
    "from qiskit import QuantumCircuit\n",
    "from qiskit_ibm_runtime import QiskitRuntimeService, SamplerV2 as Sampler\n",
    "from qiskit.visualization import plot_distribution,plot_histogram\n",
    "\n",
    "\n",
    "circuit = QuantumCircuit(2, 2)\n",
    "circuit.h(0)\n",
    "circuit.cx(0, 1)\n",
    "circuit.measure([0, 1], [0, 1])\n",
    "\n",
    "service = QiskitRuntimeService(channel=\"ibm_quantum\",token=\"6c34f27f6fcf474d7acf09a3beafa76bb94ce1f7f367c80dbb9bdbff00f55a62f414ae6a4c277a0500367525370d30668e99da320d5d70b57c8103c16109a782\")\n",
    "\n",
    "backend = service.least_busy(simulator=False,operational=True)\n",
    "# sampler = Sampler(backend)\n",
    "# job = sampler.run([circuit])\n",
    "\n",
    "transpiled_circuit = qiskit.transpile(circuit, backend=backend)\n",
    "sampler = Sampler(backend)\n",
    "job = sampler.run([transpiled_circuit])\n",
    "\n",
    "print(f\"backend: {backend.name}\")\n",
    "print(f\"job status: {job.status()}\")\n",
    "print(f\"job id: {job.job_id()}\")\n",
    "\n",
    "result = job.result()\n",
    "print(result)\n",
    "\n",
    "#plot_histogram(result[0].data.measurement.get_counts())\n",
    "#plot_histogram(result[0].data.meas.get_counts())\n",
    "\n",
    "# quasi_dist = result[0]\n",
    "# print(quasi_dist)\n",
    "\n",
    "#plot_distribution(dict(quasi_dist), title=\"Sampler Quasi-Probability Distribution\")\n"
   ]
  },
  {
   "cell_type": "code",
   "execution_count": null,
   "id": "3a71fbbd",
   "metadata": {},
   "outputs": [],
   "source": []
  }
 ],
 "metadata": {
  "kernelspec": {
   "display_name": "cwq",
   "language": "python",
   "name": "python3"
  },
  "language_info": {
   "codemirror_mode": {
    "name": "ipython",
    "version": 3
   },
   "file_extension": ".py",
   "mimetype": "text/x-python",
   "name": "python",
   "nbconvert_exporter": "python",
   "pygments_lexer": "ipython3",
   "version": "3.13.3"
  }
 },
 "nbformat": 4,
 "nbformat_minor": 5
}
