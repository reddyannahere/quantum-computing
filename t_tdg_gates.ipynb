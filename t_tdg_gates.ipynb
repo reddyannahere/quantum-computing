{
 "cells": [
  {
   "cell_type": "code",
   "execution_count": 6,
   "id": "35f68229",
   "metadata": {},
   "outputs": [
    {
     "data": {
      "image/png": "[encoded data removed]",
      "text/plain": [
       "<Figure size 352.675x117.056 with 1 Axes>"
      ]
     },
     "execution_count": 6,
     "metadata": {},
     "output_type": "execute_result"
    }
   ],
   "source": [
    "import qiskit\n",
    "from qiskit import QuantumCircuit\n",
    "\n",
    "circuit = QuantumCircuit(1)\n",
    "circuit.h(0)\n",
    "circuit.t(0)\n",
    "circuit.tdg(0)\n",
    "circuit.draw(\"mpl\")"
   ]
  },
  {
   "cell_type": "code",
   "execution_count": null,
   "id": "49854ac9",
   "metadata": {},
   "outputs": [
    {
     "name": "stderr",
     "output_type": "stream",
     "text": [
      "C:\\Users\\murth\\AppData\\Local\\Temp\\ipykernel_8188\\1442169209.py:2: DeprecationWarning: The function ``qiskit.visualization.transition_visualization.visualize_transition()`` is deprecated as of Qiskit 1.2.0. It will be removed in the 2.0 release.\n",
      "  visualize_transition(circuit)\n"
     ]
    }
   ],
   "source": [
    "from qiskit.visualization import visualize_transition\n",
    "visualize_transition(circuit)"
   ]
  },
  {
   "cell_type": "code",
   "execution_count": null,
   "id": "7a9d1f21",
   "metadata": {},
   "outputs": [],
   "source": []
  }
 ],
 "metadata": {
  "kernelspec": {
   "display_name": "cwq",
   "language": "python",
   "name": "python3"
  },
  "language_info": {
   "codemirror_mode": {
    "name": "ipython",
    "version": 3
   },
   "file_extension": ".py",
   "mimetype": "text/x-python",
   "name": "python",
   "nbconvert_exporter": "python",
   "pygments_lexer": "ipython3",
   "version": "3.13.3"
  }
 },
 "nbformat": 4,
 "nbformat_minor": 5
}
